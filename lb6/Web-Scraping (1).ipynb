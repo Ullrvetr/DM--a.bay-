{
 "cells": [
  {
   "cell_type": "markdown",
   "metadata": {},
   "source": [
    "#  Скрапінг-технології"
   ]
  },
  {
   "cell_type": "markdown",
   "metadata": {},
   "source": [
    "## ТЕОРЕТИЧНА ЧАСТИНА"
   ]
  },
  {
   "cell_type": "markdown",
   "metadata": {},
   "source": [
    "Вміст веб-сайтів(документів) - основне джерело видобутку даних.\n",
    "\n",
    "Вилучення корисних даних з веб-сторінки називається [веб-скрапінгом](https://uk.wikipedia.org/wiki/Web_scraping)\n",
    "\n",
    "_Технологія_ що покладена в основу веб-скрапінга - __HTML-парсінг__\n",
    "\n",
    "Основні парсери HTML:\n",
    "\n",
    "- [Beautiful Soup](https://en.wikipedia.org/wiki/Beautiful_Soup_(HTML_parser)) - загальноцілова бібліотека Python для парсінгу _статичних_ сайтів.\n",
    "- [Selenium](https://ru.wikipedia.org/wiki/Selenium) - бібліотека з можливістю парсінга _динамічних_ веб-сайтів.\n",
    "- [Scrapy](https://ru.wikipedia.org/wiki/Scrapy) - облегшена бібліотека для парсінгу нескладних статичних сайтів."
   ]
  },
  {
   "cell_type": "markdown",
   "metadata": {},
   "source": [
    "### Технологія веб-скрапінгу включає наступні етапи:\n",
    "\n",
    "1. Визначення об'єктів, які підлягають видобутку\n",
    "2. Вилучення html-сторінки з інтернет-ресурса\n",
    "3. Визначення внутрішньої структури html-документа та стратегії вилученя даних\n",
    "4. Застосування веб-скрапера для вилучення та накопичення даних в необхідні структури"
   ]
  },
  {
   "cell_type": "markdown",
   "metadata": {},
   "source": [
    "## ІНДИВІДУАЛЬНЕ ЗАВДАННЯ"
   ]
  },
  {
   "cell_type": "markdown",
   "metadata": {},
   "source": [
    "З [головної сторінки](https://knute.edu.ua/blog/read/?pid=1038&uk) сайту КНТЕУ вилучити інформацію про факультети, кафедри та посилання на відповідні сторінки та представити результат в наступному вигляді:\n",
    "\n",
    "Назва факультету __<Закріпленій за вамі факультет>__\n",
    "\n",
    "№   | Назва кафедри | URL кафедри\n",
    ":--:|:--------|:--------\n",
    "1 |  <_назва 1> | <url 1>\n",
    "2 |  <_назва 1> | <url 1>\n",
    "3 |  <_назва 1> | <url 1>\n",
    "...| ... |...\n"
   ]
  },
  {
   "cell_type": "code",
   "execution_count": 9,
   "metadata": {
    "run_control": {
     "marked": true
    }
   },
   "outputs": [],
   "source": [
    "# імпортувати бібліотеку Requests\n",
    "import requests as req\n",
    "import pandas as pd\n",
    "from urllib.parse import urljoin\n"
   ]
  },
  {
   "cell_type": "code",
   "execution_count": 16,
   "metadata": {
    "run_control": {
     "marked": true
    }
   },
   "outputs": [],
   "source": [
    "# зчитати головну сторінку та виправити кодування (якщо необхідно)\n",
    "base = 'https://knute.edu.ua/' \n",
    "url = 'https://knute.edu.ua/blog/read/?pid=1038&uk'\n",
    "\n",
    "page = req.get(url)\n",
    "page.encoding = 'UTF-8'\n",
    "\n",
    "dep = []\n"
   ]
  },
  {
   "cell_type": "markdown",
   "metadata": {},
   "source": [
    "#### за допомогою [Chrome DevTools](https://htmlacademy.ru/blog/boost/tools/chrome-devtools-1) проаналізувати структуру сторінки, визначити об'єкти що потребують вилучення та розробити стратегію скрапінга"
   ]
  },
  {
   "cell_type": "code",
   "execution_count": 4,
   "metadata": {
    "run_control": {
     "marked": true
    }
   },
   "outputs": [],
   "source": [
    "# імпортувати html-парсер бібліотеки  BeautifulSoup\n",
    "from bs4 import BeautifulSoup"
   ]
  },
  {
   "cell_type": "code",
   "execution_count": 17,
   "metadata": {
    "run_control": {
     "marked": true
    }
   },
   "outputs": [],
   "source": [
    "# розпарсити сторінку `main_page`\n",
    "soup = BeautifulSoup(page.text, 'html.parser')\n",
    "\n",
    "singe_child_element = soup.select_one('.att-menu-item')\n",
    "\n",
    "single_parent_element = singe_child_element.find_parent('ul')\n",
    "\n",
    "structures_list = single_parent_element.findChildren('a')\n",
    "\n"
   ]
  },
  {
   "cell_type": "markdown",
   "metadata": {},
   "source": [
    "#### застосувати вибрану стратегію для вилученя назв кафедр та їх url"
   ]
  },
  {
   "cell_type": "code",
   "execution_count": 18,
   "metadata": {
    "run_control": {
     "marked": true
    }
   },
   "outputs": [
    {
     "name": "stdout",
     "output_type": "stream",
     "text": [
      "\n",
      "Факультет міжнародної торгівлі та права - https://knute.edu.ua/blog/read?n=fmtp&uk\n",
      "\n",
      "                                       Назва кафедри  \\\n",
      "1                         Кафедра світової економіки   \n",
      "2                   Кафедра міжнародного менеджменту   \n",
      "3  Кафедра міжнародного, цивільного та комерційно...   \n",
      "4  Кафедра адміністративного, фінансового та інфо...   \n",
      "5     Кафедра правового забезпечення безпеки бізнесу   \n",
      "6                  Кафедра сучасних європейських мов   \n",
      "7       Кафедра філософії, соціології та політології   \n",
      "\n",
      "                                         URL кафедри  \n",
      "1  https://knute.edu.ua/blog/read?n=svitovoyi%20e...  \n",
      "2  https://knute.edu.ua/blog/read?n=Department%20...  \n",
      "3       https://knute.edu.ua/blog/read?n=ipcc-law&uk  \n",
      "4  https://knute.edu.ua/blog/read?n=Department%20...  \n",
      "5  https://knute.edu.ua/blog/read?n=Department%20...  \n",
      "6  https://knute.edu.ua/blog/read?n=Department%20...  \n",
      "7  https://knute.edu.ua/blog/read?n=Department%20...  \n",
      "\n",
      "Факультет торгівлі та маркетингу - https://knute.edu.ua/blog/read?n=ftm&uk\n",
      "\n",
      "                                       Назва кафедри  \\\n",
      "1  Кафедра торговельного підприємництва та логістики   \n",
      "2                                 Кафедра маркетингу   \n",
      "3  Кафедра товарознавства, управління безпечністю...   \n",
      "4            Кафедра товарознавства та митної справи   \n",
      "5                    Кафедра журналістики та реклами   \n",
      "6           Кафедра іноземної філології та перекладу   \n",
      "\n",
      "                                         URL кафедри  \n",
      "1  https://knute.edu.ua/blog/read?n=Department%20...  \n",
      "2  https://knute.edu.ua/blog/read?n=Department%20...  \n",
      "3  https://knute.edu.ua/blog/read?n=Department%20...  \n",
      "4  https://knute.edu.ua/blog/read?n=Department%20...  \n",
      "5  https://knute.edu.ua/blog/read?n=Department%20...  \n",
      "6  https://knute.edu.ua/blog/read?n=inozemnoyi%20...  \n",
      "\n",
      "Факультет економіки, менеджменту та психології - https://knute.edu.ua/blog/read?n=femp&uk\n",
      "\n",
      "                                       Назва кафедри  \\\n",
      "1  Кафедра економічної теорії та конкурентної пол...   \n",
      "2         Кафедра економіки та фінансів підприємства   \n",
      "3   Кафедра публічного управління та адміністрування   \n",
      "4                                Кафедра менеджменту   \n",
      "5                                 Кафедра психології   \n",
      "\n",
      "                                         URL кафедри  \n",
      "1  https://knute.edu.ua/blog/read?n=Department%20...  \n",
      "2  https://knute.edu.ua/blog/read?n=Department%20...  \n",
      "3  https://knute.edu.ua/blog/read?n=Department%20...  \n",
      "4  https://knute.edu.ua/blog/read?n=Department%20...  \n",
      "5  https://knute.edu.ua/blog/read?n=Department%20...  \n",
      "\n",
      "Факультет інформаційних технологій - https://knute.edu.ua/blog/read?n=fit&uk\n",
      "\n",
      "                                       Назва кафедри  \\\n",
      "1  Кафедра інженерії програмного забезпечення та ...   \n",
      "2   Кафедра цифрової економіки та системного аналізу   \n",
      "3  Кафедра комп'ютерних наук та інформаційних систем   \n",
      "4             Кафедра вищої та прикладної математики   \n",
      "\n",
      "                                         URL кафедри  \n",
      "1  https://knute.edu.ua/blog/read?n=Department%20...  \n",
      "2  https://knute.edu.ua/blog/read?n=Department%20...  \n",
      "3  https://knute.edu.ua/blog/read?n=informaciynik...  \n",
      "4  https://knute.edu.ua/blog/read?n=Department%20...  \n",
      "\n",
      "Факультет ресторанно-готельного та туристичного бізнесу  - https://knute.edu.ua/blog/read?n=frgtb&uk\n",
      "\n",
      "                                       Назва кафедри  \\\n",
      "1  Кафедра технології і організації ресторанного ...   \n",
      "2              Кафедра готельно-ресторанного бізнесу   \n",
      "3                       Кафедра туризму та рекреації   \n",
      "4                     Кафедра дизайну та інжинірингу   \n",
      "5                Кафедра фізичної культури та спорту   \n",
      "\n",
      "                                         URL кафедри  \n",
      "1  https://knute.edu.ua/blog/read?n=Department%20...  \n",
      "2  https://knute.edu.ua/blog/read?n=Department%20...  \n",
      "3  https://knute.edu.ua/blog/read?n=Department%20...  \n",
      "4  https://knute.edu.ua/blog/read?n=Department%20...  \n",
      "5  https://knute.edu.ua/blog/read?n=Department%20...  \n",
      "\n",
      "Факультет фінансів та обліку - https://knute.edu.ua/blog/read?n=ffo&uk\n",
      "\n",
      "                           Назва кафедри  \\\n",
      "1                       Кафедра фінансів   \n",
      "2             Кафедра банківської справи   \n",
      "3        Кафедра обліку та оподаткування   \n",
      "4  Кафедра фінансового аналізу та аудиту   \n",
      "5      Кафедра статистики та економетрії   \n",
      "\n",
      "                                         URL кафедри  \n",
      "1  https://knute.edu.ua/blog/read?n=Department%20...  \n",
      "2  https://knute.edu.ua/blog/read?n=Department%20...  \n",
      "3  https://knute.edu.ua/blog/read?n=Department%20...  \n",
      "4  https://knute.edu.ua/blog/read?n=Department%20...  \n",
      "5  https://knute.edu.ua/blog/read?n=Department%20...  \n"
     ]
    }
   ],
   "source": [
    "for element in structures_list:\n",
    "    child = element.findChild('span')\n",
    "\n",
    "    if(child is None):  \n",
    "        department_name = element.string\n",
    "        department_link = element.get('href').replace(' ', '%20')  \n",
    "\n",
    "        dep.append({\n",
    "        'Назва кафедри' : department_name,\n",
    "        'URL кафедри' : urljoin(base, department_link)\n",
    "        })   \n",
    "\n",
    "    else:\n",
    "        if dep:\n",
    "            print('\\n' + table_name + '\\n')\n",
    "\n",
    "            df = pd.DataFrame(dep)   \n",
    "            df.index += 1  \n",
    "            print(df)             \n",
    "\n",
    "            dep.clear()          \n",
    "\n",
    "        faculty_name = child.string\n",
    "        faculty_link = element.get('href').replace(' ', '%20')\n",
    "\n",
    "        table_name = '{0} - {1}'.format(faculty_name, urljoin(base,faculty_link)) \n",
    "        \n",
    "print('\\n' + table_name + '\\n')\n",
    "\n",
    "df = pd.DataFrame(dep)      \n",
    "df.index += 1\n",
    "\n",
    "print(df)    \n"
   ]
  }
 ],
 "metadata": {
  "kernelspec": {
   "display_name": "Python 3 (ipykernel)",
   "language": "python",
   "name": "python3"
  },
  "language_info": {
   "codemirror_mode": {
    "name": "ipython",
    "version": 3
   },
   "file_extension": ".py",
   "mimetype": "text/x-python",
   "name": "python",
   "nbconvert_exporter": "python",
   "pygments_lexer": "ipython3",
   "version": "3.9.12"
  },
  "varInspector": {
   "cols": {
    "lenName": 16,
    "lenType": 16,
    "lenVar": 40
   },
   "kernels_config": {
    "python": {
     "delete_cmd_postfix": "",
     "delete_cmd_prefix": "del ",
     "library": "var_list.py",
     "varRefreshCmd": "print(var_dic_list())"
    },
    "r": {
     "delete_cmd_postfix": ") ",
     "delete_cmd_prefix": "rm(",
     "library": "var_list.r",
     "varRefreshCmd": "cat(var_dic_list()) "
    }
   },
   "types_to_exclude": [
    "module",
    "function",
    "builtin_function_or_method",
    "instance",
    "_Feature"
   ],
   "window_display": false
  }
 },
 "nbformat": 4,
 "nbformat_minor": 2
}
